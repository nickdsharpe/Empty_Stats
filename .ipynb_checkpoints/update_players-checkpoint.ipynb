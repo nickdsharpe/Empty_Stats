{
 "cells": [
  {
   "cell_type": "code",
   "execution_count": 1,
   "id": "98e13dd6-9087-4934-b847-9f3391c34a8f",
   "metadata": {},
   "outputs": [],
   "source": [
    "import requests\n",
    "from bs4 import BeautifulSoup\n",
    "from nba_api.stats.endpoints import leaguedashteamstats, leaguedashteamshotlocations, commonallplayers\n",
    "import pandas as pd\n",
    "import numpy as np\n",
    "pd.set_option('display.max_rows', 500)\n",
    "pd.set_option('display.max_columns', 500)\n",
    "pd.set_option('display.width', 1000)"
   ]
  },
  {
   "cell_type": "code",
   "execution_count": null,
   "id": "f14e2b8c-e31e-4fcd-aaa5-0cbbc1a64467",
   "metadata": {},
   "outputs": [],
   "source": [
    "# Create an instance of the CommonAllPlayers endpoint\n",
    "all_players_instance = commonallplayers.CommonAllPlayers()\n",
    "\n",
    "# Retrieve the data\n",
    "all_players = all_players_instance.get_data_frames()[0]  # Get the first DataFrame\n",
    "\n",
    "# Extract relevant data\n",
    "all_players = all_players[all_players['ROSTERSTATUS'] != 0]\n",
    "all_players = all_players[['DISPLAY_FIRST_LAST', 'TEAM_CITY', 'TEAM_NAME']]\n",
    "all_players['FIRST_NAME'] = all_players['DISPLAY_FIRST_LAST'].str.split().str[0]\n",
    "all_players['LAST_NAME'] = all_players['DISPLAY_FIRST_LAST'].str.split().str[1]\n",
    "all_players = all_players.drop(columns=['DISPLAY_FIRST_LAST'], axis =1)\n",
    "all_players.to_csv('players.csv', index=False)"
   ]
  }
 ],
 "metadata": {
  "kernelspec": {
   "display_name": "Python 3 (ipykernel)",
   "language": "python",
   "name": "python3"
  },
  "language_info": {
   "codemirror_mode": {
    "name": "ipython",
    "version": 3
   },
   "file_extension": ".py",
   "mimetype": "text/x-python",
   "name": "python",
   "nbconvert_exporter": "python",
   "pygments_lexer": "ipython3",
   "version": "3.9.13"
  }
 },
 "nbformat": 4,
 "nbformat_minor": 5
}
